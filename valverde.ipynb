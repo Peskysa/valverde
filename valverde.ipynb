{
 "cells": [
  {
   "cell_type": "code",
   "execution_count": 26,
   "metadata": {},
   "outputs": [
    {
     "data": {
      "text/html": [
       "<div>\n",
       "<style scoped>\n",
       "    .dataframe tbody tr th:only-of-type {\n",
       "        vertical-align: middle;\n",
       "    }\n",
       "\n",
       "    .dataframe tbody tr th {\n",
       "        vertical-align: top;\n",
       "    }\n",
       "\n",
       "    .dataframe thead th {\n",
       "        text-align: right;\n",
       "    }\n",
       "</style>\n",
       "<table border=\"1\" class=\"dataframe\">\n",
       "  <thead>\n",
       "    <tr style=\"text-align: right;\">\n",
       "      <th></th>\n",
       "      <th>Manifest Date</th>\n",
       "      <th>From</th>\n",
       "      <th>To</th>\n",
       "      <th>hora</th>\n",
       "      <th>dia</th>\n",
       "      <th>mes</th>\n",
       "      <th>fecha1</th>\n",
       "      <th>fecha2</th>\n",
       "      <th>fecha3</th>\n",
       "    </tr>\n",
       "  </thead>\n",
       "  <tbody>\n",
       "    <tr>\n",
       "      <th>0</th>\n",
       "      <td>2021-01-04 14:00:00</td>\n",
       "      <td>ES0960</td>\n",
       "      <td>ES0160</td>\n",
       "      <td>14:00:00</td>\n",
       "      <td>4</td>\n",
       "      <td>ene</td>\n",
       "      <td>2021-01-04</td>\n",
       "      <td>2021-01-04</td>\n",
       "      <td>2021-01-04</td>\n",
       "    </tr>\n",
       "    <tr>\n",
       "      <th>1</th>\n",
       "      <td>2021-01-04 14:00:00</td>\n",
       "      <td>ES0960</td>\n",
       "      <td>ES0160</td>\n",
       "      <td>14:00:00</td>\n",
       "      <td>4</td>\n",
       "      <td>ene</td>\n",
       "      <td>2021-01-04</td>\n",
       "      <td>2021-01-04</td>\n",
       "      <td>2021-01-04</td>\n",
       "    </tr>\n",
       "    <tr>\n",
       "      <th>2</th>\n",
       "      <td>2021-01-04 14:00:00</td>\n",
       "      <td>ES0960</td>\n",
       "      <td>ES0160</td>\n",
       "      <td>14:00:00</td>\n",
       "      <td>4</td>\n",
       "      <td>ene</td>\n",
       "      <td>2021-01-04</td>\n",
       "      <td>2021-01-04</td>\n",
       "      <td>2021-01-04</td>\n",
       "    </tr>\n",
       "    <tr>\n",
       "      <th>3</th>\n",
       "      <td>2021-01-04 18:00:00</td>\n",
       "      <td>ES0960</td>\n",
       "      <td>ES0160</td>\n",
       "      <td>18:00:00</td>\n",
       "      <td>4</td>\n",
       "      <td>ene</td>\n",
       "      <td>2021-01-04</td>\n",
       "      <td>2021-01-04</td>\n",
       "      <td>2021-01-04</td>\n",
       "    </tr>\n",
       "    <tr>\n",
       "      <th>4</th>\n",
       "      <td>2021-01-04 20:00:00</td>\n",
       "      <td>ES0060</td>\n",
       "      <td>ES0160</td>\n",
       "      <td>20:00:00</td>\n",
       "      <td>4</td>\n",
       "      <td>ene</td>\n",
       "      <td>2021-01-04</td>\n",
       "      <td>2021-01-04</td>\n",
       "      <td>2021-01-04</td>\n",
       "    </tr>\n",
       "  </tbody>\n",
       "</table>\n",
       "</div>"
      ],
      "text/plain": [
       "        Manifest Date    From      To      hora dia  mes     fecha1  \\\n",
       "0 2021-01-04 14:00:00  ES0960  ES0160  14:00:00   4  ene 2021-01-04   \n",
       "1 2021-01-04 14:00:00  ES0960  ES0160  14:00:00   4  ene 2021-01-04   \n",
       "2 2021-01-04 14:00:00  ES0960  ES0160  14:00:00   4  ene 2021-01-04   \n",
       "3 2021-01-04 18:00:00  ES0960  ES0160  18:00:00   4  ene 2021-01-04   \n",
       "4 2021-01-04 20:00:00  ES0060  ES0160  20:00:00   4  ene 2021-01-04   \n",
       "\n",
       "      fecha2     fecha3  \n",
       "0 2021-01-04 2021-01-04  \n",
       "1 2021-01-04 2021-01-04  \n",
       "2 2021-01-04 2021-01-04  \n",
       "3 2021-01-04 2021-01-04  \n",
       "4 2021-01-04 2021-01-04  "
      ]
     },
     "execution_count": 26,
     "metadata": {},
     "output_type": "execute_result"
    }
   ],
   "source": [
    "import pandas as pd\n",
    "\n",
    "data = pd.read_excel('160.xlsx')\n",
    "data.head()"
   ]
  },
  {
   "cell_type": "markdown",
   "metadata": {
    "id": "FZksYwKX0mlV"
   },
   "source": [
    "Nuestro objetivo será el de predecir la variable `Manifest Date` a partir del resto."
   ]
  },
  {
   "cell_type": "code",
   "execution_count": 27,
   "metadata": {},
   "outputs": [
    {
     "name": "stdout",
     "output_type": "stream",
     "text": [
      "<class 'pandas.core.frame.DataFrame'>\n",
      "RangeIndex: 72970 entries, 0 to 72969\n",
      "Data columns (total 9 columns):\n",
      " #   Column         Non-Null Count  Dtype         \n",
      "---  ------         --------------  -----         \n",
      " 0   Manifest Date  72970 non-null  datetime64[ns]\n",
      " 1   From           72970 non-null  object        \n",
      " 2   To             72970 non-null  object        \n",
      " 3   hora           72970 non-null  object        \n",
      " 4   dia            65049 non-null  object        \n",
      " 5   mes            72970 non-null  object        \n",
      " 6   fecha1         72970 non-null  datetime64[ns]\n",
      " 7   fecha2         72970 non-null  datetime64[ns]\n",
      " 8   fecha3         72970 non-null  datetime64[ns]\n",
      "dtypes: datetime64[ns](4), object(5)\n",
      "memory usage: 5.0+ MB\n"
     ]
    }
   ],
   "source": [
    "data.info()"
   ]
  },
  {
   "cell_type": "code",
   "execution_count": 29,
   "metadata": {},
   "outputs": [
    {
     "data": {
      "text/plain": [
       "IT0073     47225\n",
       "PL0032     10889\n",
       "GB0064      6512\n",
       "NL0065      3174\n",
       "ES0060      3162\n",
       "ES0960      1396\n",
       "BG0129       299\n",
       "DE0104       207\n",
       "DE0066        72\n",
       "ES0160        14\n",
       "RO0134         6\n",
       "CY0044         6\n",
       "NL0700         6\n",
       "dHU0103        2\n",
       "Name: From, dtype: int64"
      ]
     },
     "execution_count": 29,
     "metadata": {},
     "output_type": "execute_result"
    }
   ],
   "source": [
    "data['From'].value_counts()\n"
   ]
  },
  {
   "cell_type": "code",
   "execution_count": 30,
   "metadata": {},
   "outputs": [
    {
     "data": {
      "text/plain": [
       "2021-12-01 23:00:00    856\n",
       "2021-12-18 23:00:00    823\n",
       "2021-12-06 23:00:00    782\n",
       "2021-02-03 23:00:00    668\n",
       "2021-12-13 23:00:00    654\n",
       "                      ... \n",
       "2021-08-27 16:15:26      1\n",
       "2021-05-12 19:36:26      1\n",
       "2021-05-12 18:00:00      1\n",
       "2021-11-30 13:30:48      1\n",
       "2021-06-08 09:00:00      1\n",
       "Name: Manifest Date, Length: 1464, dtype: int64"
      ]
     },
     "execution_count": 30,
     "metadata": {},
     "output_type": "execute_result"
    }
   ],
   "source": [
    "data['Manifest Date'].value_counts()"
   ]
  },
  {
   "cell_type": "markdown",
   "metadata": {
    "id": "25S2LapF0mla"
   },
   "source": [
    "Como puedes observar tenemos variables continuas, categóricas y algunos *missing values*. Vamos a ver como podemos tratar estos aspectos con `Scikit-Learn`, aunque primero separaremos unas cuantas muestras para entrenar y el resto para evaluar nuestros modelos. Para ello vamos a utilizar la que es la funcionalidad probablemente más utilizada de la librería:"
   ]
  },
  {
   "cell_type": "code",
   "execution_count": 31,
   "metadata": {},
   "outputs": [
    {
     "data": {
      "text/plain": [
       "(72970, 58376, 14594)"
      ]
     },
     "execution_count": 31,
     "metadata": {},
     "output_type": "execute_result"
    }
   ],
   "source": [
    "from sklearn.model_selection import train_test_split\n",
    "\n",
    "train, test = train_test_split(data, test_size=0.2) # 20% de los datos para test, 80% para entrenamiento\n",
    "\n",
    "len(data), len(train), len(test)"
   ]
  },
  {
   "cell_type": "code",
   "execution_count": 34,
   "metadata": {},
   "outputs": [
    {
     "data": {
      "image/png": "[encoded data removed]",
      "text/plain": [
       "<Figure size 1500x400 with 3 Axes>"
      ]
     },
     "metadata": {},
     "output_type": "display_data"
    }
   ],
   "source": [
    "import matplotlib.pyplot as plt\n",
    "\n",
    "fig = plt.figure(figsize=(15,4))\n",
    "ax = plt.subplot(1, 3, 1)\n",
    "train, test = train_test_split(data, test_size=0.2)\n",
    "ax.hist(data['From'], bins=len(data['From'].value_counts()))\n",
    "ax.hist(train['From'], bins=len(data['From'].value_counts()))\n",
    "ax.hist(test['From'], bins=len(data['From'].value_counts()))\n",
    "ax = plt.subplot(1, 3, 2)\n",
    "train, test = train_test_split(data, test_size=0.2, random_state=42) # siempre tendremos el mismo resultado\n",
    "ax.hist(data['From'], bins=len(data['From'].value_counts()))\n",
    "ax.hist(train['From'], bins=len(data['From'].value_counts()))\n",
    "ax.hist(test['From'], bins=len(data['From'].value_counts()))\n",
    "ax = plt.subplot(1, 3, 3)\n",
    "train, test = train_test_split(data, test_size=0.2, random_state=69, stratify=data['From']) # balancear\n",
    "ax.hist(data['From'], bins=len(data['From'].value_counts()))\n",
    "ax.hist(train['From'], bins=len(data['From'].value_counts()))\n",
    "ax.hist(test['From'], bins=len(data['From'].value_counts()))\n",
    "plt.tight_layout()\n",
    "plt.show()"
   ]
  },
  {
   "cell_type": "code",
   "execution_count": 35,
   "metadata": {},
   "outputs": [],
   "source": [
    "train.to_csv('train.csv', index=False)\n",
    "test.to_csv('test.csv', index=False)"
   ]
  },
  {
   "cell_type": "markdown",
   "metadata": {},
   "source": [
    "Para tratar los *missing values* podemos usar un `Imputer`, que puede ser tan sencillo como cambiar los valores inexistentes por el valor promedio de la columna o un valor fijo hasta el uso de algoritmos más complejos que puedes encontrar en la documentación. En este caso solo tenemos una columna con *missing values* (`total_rooms`) de tipo numérico, pero si también tuviésemos *missing values* en variables categóricas deberíamos separarlas ya que querremos usar estrategias diferentes. De hecho, es buena idea separar variables numéricas de categóricas ya que las trataremos de diferente manera."
   ]
  },
  {
   "cell_type": "code",
   "execution_count": 37,
   "metadata": {},
   "outputs": [],
   "source": [
    "train_data, y_train = train.drop(['Manifest Date'], axis=1), train['Manifest Date'].copy()\n",
    "test_data, y_test = test.drop(['Manifest Date'], axis=1), test['Manifest Date'].copy()\n",
    "\n",
    "train_num = train_data.drop(['From'], axis=1)\n",
    "train_cat = train_data[['From']]"
   ]
  },
  {
   "cell_type": "code",
   "execution_count": 38,
   "metadata": {},
   "outputs": [
    {
     "ename": "ValueError",
     "evalue": "Cannot use median strategy with non-numeric data:\ncould not convert string to float: 'ES0160'",
     "output_type": "error",
     "traceback": [
      "\u001b[1;31m---------------------------------------------------------------------------\u001b[0m",
      "\u001b[1;31mValueError\u001b[0m                                Traceback (most recent call last)",
      "Cell \u001b[1;32mIn [38], line 4\u001b[0m\n\u001b[0;32m      1\u001b[0m \u001b[39mfrom\u001b[39;00m \u001b[39msklearn\u001b[39;00m\u001b[39m.\u001b[39;00m\u001b[39mimpute\u001b[39;00m \u001b[39mimport\u001b[39;00m SimpleImputer\n\u001b[0;32m      3\u001b[0m imputer \u001b[39m=\u001b[39m SimpleImputer(strategy\u001b[39m=\u001b[39m\u001b[39m\"\u001b[39m\u001b[39mmedian\u001b[39m\u001b[39m\"\u001b[39m) \u001b[39m# definir imputer\u001b[39;00m\n\u001b[1;32m----> 4\u001b[0m imputer\u001b[39m.\u001b[39;49mfit(train_num) \u001b[39m# calcular mediana\u001b[39;00m\n\u001b[0;32m      5\u001b[0m imputer\u001b[39m.\u001b[39mstatistics_\n",
      "File \u001b[1;32mc:\\Users\\TEVA\\AppData\\Local\\Programs\\Python\\Python310\\lib\\site-packages\\sklearn\\impute\\_base.py:364\u001b[0m, in \u001b[0;36mSimpleImputer.fit\u001b[1;34m(self, X, y)\u001b[0m\n\u001b[0;32m    355\u001b[0m \u001b[39mif\u001b[39;00m \u001b[39mself\u001b[39m\u001b[39m.\u001b[39mverbose \u001b[39m!=\u001b[39m \u001b[39m\"\u001b[39m\u001b[39mdeprecated\u001b[39m\u001b[39m\"\u001b[39m:\n\u001b[0;32m    356\u001b[0m     warnings\u001b[39m.\u001b[39mwarn(\n\u001b[0;32m    357\u001b[0m         \u001b[39m\"\u001b[39m\u001b[39mThe \u001b[39m\u001b[39m'\u001b[39m\u001b[39mverbose\u001b[39m\u001b[39m'\u001b[39m\u001b[39m parameter was deprecated in version \u001b[39m\u001b[39m\"\u001b[39m\n\u001b[0;32m    358\u001b[0m         \u001b[39m\"\u001b[39m\u001b[39m1.1 and will be removed in 1.3. A warning will \u001b[39m\u001b[39m\"\u001b[39m\n\u001b[1;32m   (...)\u001b[0m\n\u001b[0;32m    361\u001b[0m         \u001b[39mFutureWarning\u001b[39;00m,\n\u001b[0;32m    362\u001b[0m     )\n\u001b[1;32m--> 364\u001b[0m X \u001b[39m=\u001b[39m \u001b[39mself\u001b[39;49m\u001b[39m.\u001b[39;49m_validate_input(X, in_fit\u001b[39m=\u001b[39;49m\u001b[39mTrue\u001b[39;49;00m)\n\u001b[0;32m    366\u001b[0m \u001b[39m# default fill_value is 0 for numerical input and \"missing_value\"\u001b[39;00m\n\u001b[0;32m    367\u001b[0m \u001b[39m# otherwise\u001b[39;00m\n\u001b[0;32m    368\u001b[0m \u001b[39mif\u001b[39;00m \u001b[39mself\u001b[39m\u001b[39m.\u001b[39mfill_value \u001b[39mis\u001b[39;00m \u001b[39mNone\u001b[39;00m:\n",
      "File \u001b[1;32mc:\\Users\\TEVA\\AppData\\Local\\Programs\\Python\\Python310\\lib\\site-packages\\sklearn\\impute\\_base.py:317\u001b[0m, in \u001b[0;36mSimpleImputer._validate_input\u001b[1;34m(self, X, in_fit)\u001b[0m\n\u001b[0;32m    311\u001b[0m \u001b[39mif\u001b[39;00m \u001b[39m\"\u001b[39m\u001b[39mcould not convert\u001b[39m\u001b[39m\"\u001b[39m \u001b[39min\u001b[39;00m \u001b[39mstr\u001b[39m(ve):\n\u001b[0;32m    312\u001b[0m     new_ve \u001b[39m=\u001b[39m \u001b[39mValueError\u001b[39;00m(\n\u001b[0;32m    313\u001b[0m         \u001b[39m\"\u001b[39m\u001b[39mCannot use \u001b[39m\u001b[39m{}\u001b[39;00m\u001b[39m strategy with non-numeric data:\u001b[39m\u001b[39m\\n\u001b[39;00m\u001b[39m{}\u001b[39;00m\u001b[39m\"\u001b[39m\u001b[39m.\u001b[39mformat(\n\u001b[0;32m    314\u001b[0m             \u001b[39mself\u001b[39m\u001b[39m.\u001b[39mstrategy, ve\n\u001b[0;32m    315\u001b[0m         )\n\u001b[0;32m    316\u001b[0m     )\n\u001b[1;32m--> 317\u001b[0m     \u001b[39mraise\u001b[39;00m new_ve \u001b[39mfrom\u001b[39;00m \u001b[39mNone\u001b[39m\n\u001b[0;32m    318\u001b[0m \u001b[39melse\u001b[39;00m:\n\u001b[0;32m    319\u001b[0m     \u001b[39mraise\u001b[39;00m ve\n",
      "\u001b[1;31mValueError\u001b[0m: Cannot use median strategy with non-numeric data:\ncould not convert string to float: 'ES0160'"
     ]
    }
   ],
   "source": [
    "from sklearn.impute import SimpleImputer\n",
    "\n",
    "imputer = SimpleImputer(strategy=\"median\") # definir imputer\n",
    "imputer.fit(train_num) # calcular mediana\n",
    "imputer.statistics_ # valores calculado"
   ]
  },
  {
   "cell_type": "code",
   "execution_count": 39,
   "metadata": {},
   "outputs": [
    {
     "ename": "AttributeError",
     "evalue": "'SimpleImputer' object has no attribute '_fit_dtype'",
     "output_type": "error",
     "traceback": [
      "\u001b[1;31m---------------------------------------------------------------------------\u001b[0m",
      "\u001b[1;31mAttributeError\u001b[0m                            Traceback (most recent call last)",
      "Cell \u001b[1;32mIn [39], line 1\u001b[0m\n\u001b[1;32m----> 1\u001b[0m X_train_num \u001b[39m=\u001b[39m imputer\u001b[39m.\u001b[39;49mtransform(train_num) \u001b[39m# cambiar valores inexistentes por la mediana\u001b[39;00m\n\u001b[0;32m      3\u001b[0m X_train_num\n",
      "File \u001b[1;32mc:\\Users\\TEVA\\AppData\\Local\\Programs\\Python\\Python310\\lib\\site-packages\\sklearn\\impute\\_base.py:515\u001b[0m, in \u001b[0;36mSimpleImputer.transform\u001b[1;34m(self, X)\u001b[0m\n\u001b[0;32m    500\u001b[0m \u001b[39m\"\"\"Impute all missing values in `X`.\u001b[39;00m\n\u001b[0;32m    501\u001b[0m \n\u001b[0;32m    502\u001b[0m \u001b[39mParameters\u001b[39;00m\n\u001b[1;32m   (...)\u001b[0m\n\u001b[0;32m    511\u001b[0m \u001b[39m    `X` with imputed values.\u001b[39;00m\n\u001b[0;32m    512\u001b[0m \u001b[39m\"\"\"\u001b[39;00m\n\u001b[0;32m    513\u001b[0m check_is_fitted(\u001b[39mself\u001b[39m)\n\u001b[1;32m--> 515\u001b[0m X \u001b[39m=\u001b[39m \u001b[39mself\u001b[39;49m\u001b[39m.\u001b[39;49m_validate_input(X, in_fit\u001b[39m=\u001b[39;49m\u001b[39mFalse\u001b[39;49;00m)\n\u001b[0;32m    516\u001b[0m statistics \u001b[39m=\u001b[39m \u001b[39mself\u001b[39m\u001b[39m.\u001b[39mstatistics_\n\u001b[0;32m    518\u001b[0m \u001b[39mif\u001b[39;00m X\u001b[39m.\u001b[39mshape[\u001b[39m1\u001b[39m] \u001b[39m!=\u001b[39m statistics\u001b[39m.\u001b[39mshape[\u001b[39m0\u001b[39m]:\n",
      "File \u001b[1;32mc:\\Users\\TEVA\\AppData\\Local\\Programs\\Python\\Python310\\lib\\site-packages\\sklearn\\impute\\_base.py:292\u001b[0m, in \u001b[0;36mSimpleImputer._validate_input\u001b[1;34m(self, X, in_fit)\u001b[0m\n\u001b[0;32m    289\u001b[0m \u001b[39melse\u001b[39;00m:\n\u001b[0;32m    290\u001b[0m     dtype \u001b[39m=\u001b[39m FLOAT_DTYPES\n\u001b[1;32m--> 292\u001b[0m \u001b[39mif\u001b[39;00m \u001b[39mnot\u001b[39;00m in_fit \u001b[39mand\u001b[39;00m \u001b[39mself\u001b[39;49m\u001b[39m.\u001b[39;49m_fit_dtype\u001b[39m.\u001b[39mkind \u001b[39m==\u001b[39m \u001b[39m\"\u001b[39m\u001b[39mO\u001b[39m\u001b[39m\"\u001b[39m:\n\u001b[0;32m    293\u001b[0m     \u001b[39m# Use object dtype if fitted on object dtypes\u001b[39;00m\n\u001b[0;32m    294\u001b[0m     dtype \u001b[39m=\u001b[39m \u001b[39mself\u001b[39m\u001b[39m.\u001b[39m_fit_dtype\n\u001b[0;32m    296\u001b[0m \u001b[39mif\u001b[39;00m _is_pandas_na(\u001b[39mself\u001b[39m\u001b[39m.\u001b[39mmissing_values) \u001b[39mor\u001b[39;00m is_scalar_nan(\u001b[39mself\u001b[39m\u001b[39m.\u001b[39mmissing_values):\n",
      "\u001b[1;31mAttributeError\u001b[0m: 'SimpleImputer' object has no attribute '_fit_dtype'"
     ]
    }
   ],
   "source": [
    "X_train_num = imputer.transform(train_num) # cambiar valores inexistentes por la mediana\n",
    "\n",
    "X_train_num"
   ]
  }
 ],
 "metadata": {
  "kernelspec": {
   "display_name": "Python 3.10.5 64-bit",
   "language": "python",
   "name": "python3"
  },
  "language_info": {
   "codemirror_mode": {
    "name": "ipython",
    "version": 3
   },
   "file_extension": ".py",
   "mimetype": "text/x-python",
   "name": "python",
   "nbconvert_exporter": "python",
   "pygments_lexer": "ipython3",
   "version": "3.10.8"
  },
  "orig_nbformat": 4,
  "vscode": {
   "interpreter": {
    "hash": "0c77bb9113d158797a453dc4931ff986231334c8bfdd3e60b3966feee6b96c99"
   }
  }
 },
 "nbformat": 4,
 "nbformat_minor": 2
}
