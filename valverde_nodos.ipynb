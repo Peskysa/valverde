{
 "cells": [
  {
   "cell_type": "code",
   "execution_count": 9,
   "metadata": {},
   "outputs": [
    {
     "name": "stderr",
     "output_type": "stream",
     "text": [
      "C:\\Users\\TEVA\\AppData\\Local\\Temp\\ipykernel_4716\\2930049167.py:3: DtypeWarning: Columns (4) have mixed types. Specify dtype option on import or set low_memory=False.\n",
      "  df160 = pd.read_csv('total_es0160.csv')\n"
     ]
    },
    {
     "data": {
      "text/html": [
       "<div>\n",
       "<style scoped>\n",
       "    .dataframe tbody tr th:only-of-type {\n",
       "        vertical-align: middle;\n",
       "    }\n",
       "\n",
       "    .dataframe tbody tr th {\n",
       "        vertical-align: top;\n",
       "    }\n",
       "\n",
       "    .dataframe thead th {\n",
       "        text-align: right;\n",
       "    }\n",
       "</style>\n",
       "<table border=\"1\" class=\"dataframe\">\n",
       "  <thead>\n",
       "    <tr style=\"text-align: right;\">\n",
       "      <th></th>\n",
       "      <th>Unnamed: 0</th>\n",
       "      <th>Manifest Date</th>\n",
       "      <th>From StationCode</th>\n",
       "      <th>To StationCode</th>\n",
       "      <th>Connote #</th>\n",
       "    </tr>\n",
       "  </thead>\n",
       "  <tbody>\n",
       "    <tr>\n",
       "      <th>0</th>\n",
       "      <td>15861</td>\n",
       "      <td>2018-04-09 20:00:00</td>\n",
       "      <td>GB0064</td>\n",
       "      <td>ES0160</td>\n",
       "      <td>56466208400</td>\n",
       "    </tr>\n",
       "    <tr>\n",
       "      <th>1</th>\n",
       "      <td>16041</td>\n",
       "      <td>2018-04-10 20:00:00</td>\n",
       "      <td>GB0064</td>\n",
       "      <td>ES0160</td>\n",
       "      <td>6486915536</td>\n",
       "    </tr>\n",
       "    <tr>\n",
       "      <th>2</th>\n",
       "      <td>16078</td>\n",
       "      <td>2018-04-11 16:00:00</td>\n",
       "      <td>GB0064</td>\n",
       "      <td>ES0160</td>\n",
       "      <td>56466335402</td>\n",
       "    </tr>\n",
       "    <tr>\n",
       "      <th>3</th>\n",
       "      <td>16079</td>\n",
       "      <td>2018-04-11 16:00:00</td>\n",
       "      <td>GB0064</td>\n",
       "      <td>ES0160</td>\n",
       "      <td>56466334385</td>\n",
       "    </tr>\n",
       "    <tr>\n",
       "      <th>4</th>\n",
       "      <td>16080</td>\n",
       "      <td>2018-04-11 16:00:00</td>\n",
       "      <td>GB0064</td>\n",
       "      <td>ES0160</td>\n",
       "      <td>56466328085</td>\n",
       "    </tr>\n",
       "  </tbody>\n",
       "</table>\n",
       "</div>"
      ],
      "text/plain": [
       "   Unnamed: 0        Manifest Date From StationCode To StationCode  \\\n",
       "0       15861  2018-04-09 20:00:00           GB0064         ES0160   \n",
       "1       16041  2018-04-10 20:00:00           GB0064         ES0160   \n",
       "2       16078  2018-04-11 16:00:00           GB0064         ES0160   \n",
       "3       16079  2018-04-11 16:00:00           GB0064         ES0160   \n",
       "4       16080  2018-04-11 16:00:00           GB0064         ES0160   \n",
       "\n",
       "     Connote #  \n",
       "0  56466208400  \n",
       "1   6486915536  \n",
       "2  56466335402  \n",
       "3  56466334385  \n",
       "4  56466328085  "
      ]
     },
     "execution_count": 9,
     "metadata": {},
     "output_type": "execute_result"
    }
   ],
   "source": [
    "import pandas as pd\n",
    "\n",
    "df160 = pd.read_csv('total_es0160.csv')\n",
    "df160.head()"
   ]
  },
  {
   "cell_type": "code",
   "execution_count": 10,
   "metadata": {},
   "outputs": [
    {
     "name": "stdout",
     "output_type": "stream",
     "text": [
      "<class 'pandas.core.frame.DataFrame'>\n",
      "RangeIndex: 275742 entries, 0 to 275741\n",
      "Data columns (total 5 columns):\n",
      " #   Column            Non-Null Count   Dtype \n",
      "---  ------            --------------   ----- \n",
      " 0   Unnamed: 0        275742 non-null  int64 \n",
      " 1   Manifest Date     275742 non-null  object\n",
      " 2   From StationCode  275742 non-null  object\n",
      " 3   To StationCode    275742 non-null  object\n",
      " 4   Connote #         275742 non-null  object\n",
      "dtypes: int64(1), object(4)\n",
      "memory usage: 10.5+ MB\n"
     ]
    }
   ],
   "source": [
    "df160.info()"
   ]
  },
  {
   "cell_type": "code",
   "execution_count": 11,
   "metadata": {},
   "outputs": [
    {
     "data": {
      "text/html": [
       "<div>\n",
       "<style scoped>\n",
       "    .dataframe tbody tr th:only-of-type {\n",
       "        vertical-align: middle;\n",
       "    }\n",
       "\n",
       "    .dataframe tbody tr th {\n",
       "        vertical-align: top;\n",
       "    }\n",
       "\n",
       "    .dataframe thead th {\n",
       "        text-align: right;\n",
       "    }\n",
       "</style>\n",
       "<table border=\"1\" class=\"dataframe\">\n",
       "  <thead>\n",
       "    <tr style=\"text-align: right;\">\n",
       "      <th></th>\n",
       "      <th>Unnamed: 0</th>\n",
       "      <th>Manifest Date</th>\n",
       "      <th>From StationCode</th>\n",
       "      <th>To StationCode</th>\n",
       "      <th>Connote #</th>\n",
       "    </tr>\n",
       "  </thead>\n",
       "  <tbody>\n",
       "    <tr>\n",
       "      <th>0</th>\n",
       "      <td>0</td>\n",
       "      <td>2018-01-01 06:25:11</td>\n",
       "      <td>GB7103</td>\n",
       "      <td>ES0960</td>\n",
       "      <td>710310154455</td>\n",
       "    </tr>\n",
       "    <tr>\n",
       "      <th>1</th>\n",
       "      <td>1</td>\n",
       "      <td>2018-01-01 09:55:09</td>\n",
       "      <td>GB7103</td>\n",
       "      <td>ES0960</td>\n",
       "      <td>710310153744</td>\n",
       "    </tr>\n",
       "    <tr>\n",
       "      <th>2</th>\n",
       "      <td>2</td>\n",
       "      <td>2018-01-01 10:40:06</td>\n",
       "      <td>GB7103</td>\n",
       "      <td>ES0960</td>\n",
       "      <td>710310154820</td>\n",
       "    </tr>\n",
       "    <tr>\n",
       "      <th>3</th>\n",
       "      <td>3</td>\n",
       "      <td>2018-01-01 10:40:09</td>\n",
       "      <td>GB7103</td>\n",
       "      <td>ES0960</td>\n",
       "      <td>710310154831</td>\n",
       "    </tr>\n",
       "    <tr>\n",
       "      <th>4</th>\n",
       "      <td>4</td>\n",
       "      <td>2018-01-01 10:55:10</td>\n",
       "      <td>GB7103</td>\n",
       "      <td>ES0960</td>\n",
       "      <td>710310154864</td>\n",
       "    </tr>\n",
       "    <tr>\n",
       "      <th>...</th>\n",
       "      <td>...</td>\n",
       "      <td>...</td>\n",
       "      <td>...</td>\n",
       "      <td>...</td>\n",
       "      <td>...</td>\n",
       "    </tr>\n",
       "    <tr>\n",
       "      <th>128982</th>\n",
       "      <td>404724</td>\n",
       "      <td>2022-10-31 12:25:25</td>\n",
       "      <td>GB7103</td>\n",
       "      <td>ES0960</td>\n",
       "      <td>710314529901</td>\n",
       "    </tr>\n",
       "    <tr>\n",
       "      <th>128983</th>\n",
       "      <td>404725</td>\n",
       "      <td>2022-10-31 12:26:02</td>\n",
       "      <td>SKYRTN</td>\n",
       "      <td>ES0960</td>\n",
       "      <td>720134964975</td>\n",
       "    </tr>\n",
       "    <tr>\n",
       "      <th>128984</th>\n",
       "      <td>404726</td>\n",
       "      <td>2022-10-31 12:40:39</td>\n",
       "      <td>SKYRTN</td>\n",
       "      <td>ES0960</td>\n",
       "      <td>720134965222</td>\n",
       "    </tr>\n",
       "    <tr>\n",
       "      <th>128985</th>\n",
       "      <td>404727</td>\n",
       "      <td>2022-10-31 12:41:25</td>\n",
       "      <td>GB7103</td>\n",
       "      <td>ES0960</td>\n",
       "      <td>710314529912</td>\n",
       "    </tr>\n",
       "    <tr>\n",
       "      <th>128986</th>\n",
       "      <td>404728</td>\n",
       "      <td>2022-10-31 12:55:26</td>\n",
       "      <td>GB7103</td>\n",
       "      <td>ES0960</td>\n",
       "      <td>710314529912</td>\n",
       "    </tr>\n",
       "  </tbody>\n",
       "</table>\n",
       "<p>128987 rows × 5 columns</p>\n",
       "</div>"
      ],
      "text/plain": [
       "        Unnamed: 0        Manifest Date From StationCode To StationCode  \\\n",
       "0                0  2018-01-01 06:25:11           GB7103         ES0960   \n",
       "1                1  2018-01-01 09:55:09           GB7103         ES0960   \n",
       "2                2  2018-01-01 10:40:06           GB7103         ES0960   \n",
       "3                3  2018-01-01 10:40:09           GB7103         ES0960   \n",
       "4                4  2018-01-01 10:55:10           GB7103         ES0960   \n",
       "...            ...                  ...              ...            ...   \n",
       "128982      404724  2022-10-31 12:25:25           GB7103         ES0960   \n",
       "128983      404725  2022-10-31 12:26:02           SKYRTN         ES0960   \n",
       "128984      404726  2022-10-31 12:40:39           SKYRTN         ES0960   \n",
       "128985      404727  2022-10-31 12:41:25           GB7103         ES0960   \n",
       "128986      404728  2022-10-31 12:55:26           GB7103         ES0960   \n",
       "\n",
       "           Connote #  \n",
       "0       710310154455  \n",
       "1       710310153744  \n",
       "2       710310154820  \n",
       "3       710310154831  \n",
       "4       710310154864  \n",
       "...              ...  \n",
       "128982  710314529901  \n",
       "128983  720134964975  \n",
       "128984  720134965222  \n",
       "128985  710314529912  \n",
       "128986  710314529912  \n",
       "\n",
       "[128987 rows x 5 columns]"
      ]
     },
     "execution_count": 11,
     "metadata": {},
     "output_type": "execute_result"
    }
   ],
   "source": [
    "import pandas as pd\n",
    "\n",
    "df960 = pd.read_csv('total_es0960.csv')\n",
    "df960"
   ]
  },
  {
   "cell_type": "code",
   "execution_count": 12,
   "metadata": {},
   "outputs": [
    {
     "name": "stdout",
     "output_type": "stream",
     "text": [
      "<class 'pandas.core.frame.DataFrame'>\n",
      "RangeIndex: 128987 entries, 0 to 128986\n",
      "Data columns (total 5 columns):\n",
      " #   Column            Non-Null Count   Dtype \n",
      "---  ------            --------------   ----- \n",
      " 0   Unnamed: 0        128987 non-null  int64 \n",
      " 1   Manifest Date     128987 non-null  object\n",
      " 2   From StationCode  128987 non-null  object\n",
      " 3   To StationCode    128987 non-null  object\n",
      " 4   Connote #         128987 non-null  object\n",
      "dtypes: int64(1), object(4)\n",
      "memory usage: 4.9+ MB\n"
     ]
    }
   ],
   "source": [
    "df960.info()"
   ]
  },
  {
   "cell_type": "code",
   "execution_count": 13,
   "metadata": {},
   "outputs": [
    {
     "data": {
      "text/plain": [
       "2018-02-07 19:00:00    468\n",
       "2018-03-06 19:00:00    454\n",
       "2021-06-07 17:00:00    441\n",
       "2018-02-05 19:00:00    417\n",
       "2018-01-04 19:00:00    382\n",
       "                      ... \n",
       "2020-05-26 10:40:30      1\n",
       "2020-05-26 10:40:33      1\n",
       "2020-05-26 10:40:34      1\n",
       "2020-05-26 10:55:29      1\n",
       "2022-10-31 12:55:26      1\n",
       "Name: Manifest Date, Length: 70351, dtype: int64"
      ]
     },
     "execution_count": 13,
     "metadata": {},
     "output_type": "execute_result"
    }
   ],
   "source": [
    "df960['Manifest Date'].value_counts()"
   ]
  },
  {
   "cell_type": "code",
   "execution_count": 14,
   "metadata": {},
   "outputs": [
    {
     "data": {
      "text/plain": [
       "2020-12-07 23:00:00    1591\n",
       "2022-06-07 20:00:00    1540\n",
       "2022-06-06 20:00:00    1381\n",
       "2020-12-10 23:00:00    1113\n",
       "2020-11-30 23:00:00    1075\n",
       "                       ... \n",
       "2021-04-26 18:00:00       1\n",
       "2021-04-26 16:00:00       1\n",
       "2021-04-22 17:00:00       1\n",
       "2021-04-21 19:41:14       1\n",
       "2018-04-09 20:00:00       1\n",
       "Name: Manifest Date, Length: 5355, dtype: int64"
      ]
     },
     "execution_count": 14,
     "metadata": {},
     "output_type": "execute_result"
    }
   ],
   "source": [
    "df160['Manifest Date'].value_counts()"
   ]
  },
  {
   "cell_type": "code",
   "execution_count": 16,
   "metadata": {},
   "outputs": [
    {
     "data": {
      "text/plain": [
       "5355"
      ]
     },
     "execution_count": 16,
     "metadata": {},
     "output_type": "execute_result"
    }
   ],
   "source": [
    "len(df160['Manifest Date'].value_counts())\n"
   ]
  },
  {
   "cell_type": "code",
   "execution_count": 17,
   "metadata": {},
   "outputs": [
    {
     "data": {
      "text/plain": [
       "70351"
      ]
     },
     "execution_count": 17,
     "metadata": {},
     "output_type": "execute_result"
    }
   ],
   "source": [
    "len(df960['Manifest Date'].value_counts())"
   ]
  },
  {
   "cell_type": "code",
   "execution_count": 36,
   "metadata": {},
   "outputs": [],
   "source": [
    "data960 = df960['Manifest Date'].value_counts()\n",
    "#data160.to_csv('new_date_960.csv')"
   ]
  },
  {
   "cell_type": "code",
   "execution_count": 37,
   "metadata": {},
   "outputs": [],
   "source": [
    "data160 = df160['Manifest Date'].value_counts()\n",
    "#data160.to_csv('new_date_160.csv')"
   ]
  },
  {
   "cell_type": "code",
   "execution_count": 2,
   "metadata": {},
   "outputs": [
    {
     "data": {
      "text/html": [
       "<div>\n",
       "<style scoped>\n",
       "    .dataframe tbody tr th:only-of-type {\n",
       "        vertical-align: middle;\n",
       "    }\n",
       "\n",
       "    .dataframe tbody tr th {\n",
       "        vertical-align: top;\n",
       "    }\n",
       "\n",
       "    .dataframe thead th {\n",
       "        text-align: right;\n",
       "    }\n",
       "</style>\n",
       "<table border=\"1\" class=\"dataframe\">\n",
       "  <thead>\n",
       "    <tr style=\"text-align: right;\">\n",
       "      <th></th>\n",
       "      <th>date</th>\n",
       "      <th>unidad</th>\n",
       "    </tr>\n",
       "  </thead>\n",
       "  <tbody>\n",
       "    <tr>\n",
       "      <th>0</th>\n",
       "      <td>2018-01-01 06:25:11</td>\n",
       "      <td>1</td>\n",
       "    </tr>\n",
       "    <tr>\n",
       "      <th>1</th>\n",
       "      <td>2018-01-01 09:55:09</td>\n",
       "      <td>1</td>\n",
       "    </tr>\n",
       "    <tr>\n",
       "      <th>2</th>\n",
       "      <td>2018-01-01 10:40:06</td>\n",
       "      <td>1</td>\n",
       "    </tr>\n",
       "    <tr>\n",
       "      <th>3</th>\n",
       "      <td>2018-01-01 10:40:09</td>\n",
       "      <td>1</td>\n",
       "    </tr>\n",
       "    <tr>\n",
       "      <th>4</th>\n",
       "      <td>2018-01-01 10:55:10</td>\n",
       "      <td>1</td>\n",
       "    </tr>\n",
       "  </tbody>\n",
       "</table>\n",
       "</div>"
      ],
      "text/plain": [
       "                  date  unidad\n",
       "0  2018-01-01 06:25:11       1\n",
       "1  2018-01-01 09:55:09       1\n",
       "2  2018-01-01 10:40:06       1\n",
       "3  2018-01-01 10:40:09       1\n",
       "4  2018-01-01 10:55:10       1"
      ]
     },
     "execution_count": 2,
     "metadata": {},
     "output_type": "execute_result"
    }
   ],
   "source": [
    "import pandas as pd\n",
    "df = pd.read_csv('new_date_960.csv')\n",
    "df.head()\n"
   ]
  },
  {
   "cell_type": "code",
   "execution_count": 7,
   "metadata": {},
   "outputs": [
    {
     "data": {
      "text/html": [
       "<div>\n",
       "<style scoped>\n",
       "    .dataframe tbody tr th:only-of-type {\n",
       "        vertical-align: middle;\n",
       "    }\n",
       "\n",
       "    .dataframe tbody tr th {\n",
       "        vertical-align: top;\n",
       "    }\n",
       "\n",
       "    .dataframe thead th {\n",
       "        text-align: right;\n",
       "    }\n",
       "</style>\n",
       "<table border=\"1\" class=\"dataframe\">\n",
       "  <thead>\n",
       "    <tr style=\"text-align: right;\">\n",
       "      <th></th>\n",
       "      <th>date</th>\n",
       "      <th>unidad</th>\n",
       "    </tr>\n",
       "  </thead>\n",
       "  <tbody>\n",
       "    <tr>\n",
       "      <th>0</th>\n",
       "      <td>2018-04-09 20:00:00</td>\n",
       "      <td>1</td>\n",
       "    </tr>\n",
       "    <tr>\n",
       "      <th>1</th>\n",
       "      <td>2018-04-10 20:00:00</td>\n",
       "      <td>1</td>\n",
       "    </tr>\n",
       "    <tr>\n",
       "      <th>2</th>\n",
       "      <td>2018-04-11 16:00:00</td>\n",
       "      <td>3</td>\n",
       "    </tr>\n",
       "    <tr>\n",
       "      <th>3</th>\n",
       "      <td>2018-04-11 19:00:00</td>\n",
       "      <td>63</td>\n",
       "    </tr>\n",
       "    <tr>\n",
       "      <th>4</th>\n",
       "      <td>2018-04-13 19:00:00</td>\n",
       "      <td>121</td>\n",
       "    </tr>\n",
       "  </tbody>\n",
       "</table>\n",
       "</div>"
      ],
      "text/plain": [
       "                  date  unidad\n",
       "0  2018-04-09 20:00:00       1\n",
       "1  2018-04-10 20:00:00       1\n",
       "2  2018-04-11 16:00:00       3\n",
       "3  2018-04-11 19:00:00      63\n",
       "4  2018-04-13 19:00:00     121"
      ]
     },
     "execution_count": 7,
     "metadata": {},
     "output_type": "execute_result"
    }
   ],
   "source": [
    "import pandas as pd\n",
    "df1 = pd.read_csv('new_date_160.csv')\n",
    "df1.head()"
   ]
  },
  {
   "cell_type": "code",
   "execution_count": 4,
   "metadata": {},
   "outputs": [
    {
     "name": "stderr",
     "output_type": "stream",
     "text": [
      "No artists with labels found to put in legend.  Note that artists whose label start with an underscore are ignored when legend() is called with no argument.\n",
      "Locator attempting to generate 2542 ticks ([-3501.0, ..., 73839.0]), which exceeds Locator.MAXTICKS (1000).\n",
      "Locator attempting to generate 2542 ticks ([-3501.0, ..., 73839.0]), which exceeds Locator.MAXTICKS (1000).\n",
      "Locator attempting to generate 2543 ticks ([-3517.0, ..., 73854.0]), which exceeds Locator.MAXTICKS (1000).\n",
      "Locator attempting to generate 2542 ticks ([-3501.0, ..., 73839.0]), which exceeds Locator.MAXTICKS (1000).\n",
      "Locator attempting to generate 2542 ticks ([-3501.0, ..., 73839.0]), which exceeds Locator.MAXTICKS (1000).\n",
      "Locator attempting to generate 2543 ticks ([-3517.0, ..., 73854.0]), which exceeds Locator.MAXTICKS (1000).\n",
      "Locator attempting to generate 2542 ticks ([-3501.0, ..., 73839.0]), which exceeds Locator.MAXTICKS (1000).\n",
      "Locator attempting to generate 2542 ticks ([-3501.0, ..., 73839.0]), which exceeds Locator.MAXTICKS (1000).\n",
      "Locator attempting to generate 2543 ticks ([-3517.0, ..., 73854.0]), which exceeds Locator.MAXTICKS (1000).\n",
      "Locator attempting to generate 2542 ticks ([-3501.0, ..., 73839.0]), which exceeds Locator.MAXTICKS (1000).\n",
      "Locator attempting to generate 2542 ticks ([-3501.0, ..., 73839.0]), which exceeds Locator.MAXTICKS (1000).\n",
      "Locator attempting to generate 2543 ticks ([-3517.0, ..., 73854.0]), which exceeds Locator.MAXTICKS (1000).\n",
      "Locator attempting to generate 2542 ticks ([-3501.0, ..., 73839.0]), which exceeds Locator.MAXTICKS (1000).\n",
      "Locator attempting to generate 2542 ticks ([-3501.0, ..., 73839.0]), which exceeds Locator.MAXTICKS (1000).\n",
      "Locator attempting to generate 2543 ticks ([-3517.0, ..., 73854.0]), which exceeds Locator.MAXTICKS (1000).\n",
      "Locator attempting to generate 2542 ticks ([-3501.0, ..., 73839.0]), which exceeds Locator.MAXTICKS (1000).\n",
      "Locator attempting to generate 2542 ticks ([-3501.0, ..., 73839.0]), which exceeds Locator.MAXTICKS (1000).\n",
      "Locator attempting to generate 2543 ticks ([-3517.0, ..., 73854.0]), which exceeds Locator.MAXTICKS (1000).\n",
      "Locator attempting to generate 2542 ticks ([-3501.0, ..., 73839.0]), which exceeds Locator.MAXTICKS (1000).\n",
      "Locator attempting to generate 2542 ticks ([-3501.0, ..., 73839.0]), which exceeds Locator.MAXTICKS (1000).\n",
      "Locator attempting to generate 2543 ticks ([-3517.0, ..., 73854.0]), which exceeds Locator.MAXTICKS (1000).\n",
      "Locator attempting to generate 2542 ticks ([-3501.0, ..., 73839.0]), which exceeds Locator.MAXTICKS (1000).\n",
      "Locator attempting to generate 2542 ticks ([-3501.0, ..., 73839.0]), which exceeds Locator.MAXTICKS (1000).\n",
      "Locator attempting to generate 2543 ticks ([-3517.0, ..., 73854.0]), which exceeds Locator.MAXTICKS (1000).\n",
      "Locator attempting to generate 2542 ticks ([-3501.0, ..., 73839.0]), which exceeds Locator.MAXTICKS (1000).\n",
      "Locator attempting to generate 2542 ticks ([-3501.0, ..., 73839.0]), which exceeds Locator.MAXTICKS (1000).\n",
      "Locator attempting to generate 2543 ticks ([-3517.0, ..., 73854.0]), which exceeds Locator.MAXTICKS (1000).\n",
      "Locator attempting to generate 2542 ticks ([-3501.0, ..., 73839.0]), which exceeds Locator.MAXTICKS (1000).\n",
      "Locator attempting to generate 2542 ticks ([-3501.0, ..., 73839.0]), which exceeds Locator.MAXTICKS (1000).\n",
      "Locator attempting to generate 2543 ticks ([-3517.0, ..., 73854.0]), which exceeds Locator.MAXTICKS (1000).\n"
     ]
    },
    {
     "data": {
      "image/png": "[encoded data removed]",
      "text/plain": [
       "<Figure size 2200x1200 with 1 Axes>"
      ]
     },
     "metadata": {},
     "output_type": "display_data"
    }
   ],
   "source": [
    "import matplotlib.pyplot as plt\n",
    "import matplotlib.dates as dates\n",
    "\n",
    "y = df['unidad']\n",
    "x = df['date']\n",
    "fig, ax = plt.subplots(figsize=(22,12))\n",
    "\n",
    "#ax.step(x, y, linewidth=1.0)\n",
    "#ax.stem(x, y)\n",
    "ax.plot(x, y, linewidth=1.0)\n",
    "ax.xaxis.set_tick_params(rotation=40)\n",
    "ax.tick_params(grid_color='r', grid_alpha=0.1)\n",
    "\n",
    "ax.xaxis.set_major_locator(dates.MonthLocator())\n",
    "# 16 is a slight approximation since months differ in number of days.\n",
    "ax.xaxis.set_minor_locator(dates.MonthLocator(bymonthday=16))\n",
    "plt.grid()\n",
    "ax.set_ylabel('Unidades')\n",
    "ax.set_title('Movimiento total')\n",
    "\n",
    "ax.legend()\n",
    "plt.grid()\n",
    "\n",
    "plt.show()"
   ]
  },
  {
   "cell_type": "code",
   "execution_count": 5,
   "metadata": {},
   "outputs": [
    {
     "data": {
      "text/html": [
       "<div>\n",
       "<style scoped>\n",
       "    .dataframe tbody tr th:only-of-type {\n",
       "        vertical-align: middle;\n",
       "    }\n",
       "\n",
       "    .dataframe tbody tr th {\n",
       "        vertical-align: top;\n",
       "    }\n",
       "\n",
       "    .dataframe thead th {\n",
       "        text-align: right;\n",
       "    }\n",
       "</style>\n",
       "<table border=\"1\" class=\"dataframe\">\n",
       "  <thead>\n",
       "    <tr style=\"text-align: right;\">\n",
       "      <th></th>\n",
       "      <th>date</th>\n",
       "      <th>unidad</th>\n",
       "    </tr>\n",
       "  </thead>\n",
       "  <tbody>\n",
       "    <tr>\n",
       "      <th>0</th>\n",
       "      <td>2018-01-01 06:25:11</td>\n",
       "      <td>1</td>\n",
       "    </tr>\n",
       "    <tr>\n",
       "      <th>1</th>\n",
       "      <td>2018-01-01 09:55:09</td>\n",
       "      <td>1</td>\n",
       "    </tr>\n",
       "    <tr>\n",
       "      <th>2</th>\n",
       "      <td>2018-01-01 10:40:06</td>\n",
       "      <td>1</td>\n",
       "    </tr>\n",
       "    <tr>\n",
       "      <th>3</th>\n",
       "      <td>2018-01-01 10:40:09</td>\n",
       "      <td>1</td>\n",
       "    </tr>\n",
       "    <tr>\n",
       "      <th>4</th>\n",
       "      <td>2018-01-01 10:55:10</td>\n",
       "      <td>1</td>\n",
       "    </tr>\n",
       "    <tr>\n",
       "      <th>...</th>\n",
       "      <td>...</td>\n",
       "      <td>...</td>\n",
       "    </tr>\n",
       "    <tr>\n",
       "      <th>7808</th>\n",
       "      <td>2018-12-31 09:55:09</td>\n",
       "      <td>1</td>\n",
       "    </tr>\n",
       "    <tr>\n",
       "      <th>7809</th>\n",
       "      <td>2018-12-31 10:11:29</td>\n",
       "      <td>1</td>\n",
       "    </tr>\n",
       "    <tr>\n",
       "      <th>7810</th>\n",
       "      <td>2018-12-31 10:55:10</td>\n",
       "      <td>1</td>\n",
       "    </tr>\n",
       "    <tr>\n",
       "      <th>7811</th>\n",
       "      <td>2018-12-31 12:55:11</td>\n",
       "      <td>1</td>\n",
       "    </tr>\n",
       "    <tr>\n",
       "      <th>7812</th>\n",
       "      <td>2018-12-31 12:55:17</td>\n",
       "      <td>1</td>\n",
       "    </tr>\n",
       "  </tbody>\n",
       "</table>\n",
       "<p>7813 rows × 2 columns</p>\n",
       "</div>"
      ],
      "text/plain": [
       "                    date  unidad\n",
       "0    2018-01-01 06:25:11       1\n",
       "1    2018-01-01 09:55:09       1\n",
       "2    2018-01-01 10:40:06       1\n",
       "3    2018-01-01 10:40:09       1\n",
       "4    2018-01-01 10:55:10       1\n",
       "...                  ...     ...\n",
       "7808 2018-12-31 09:55:09       1\n",
       "7809 2018-12-31 10:11:29       1\n",
       "7810 2018-12-31 10:55:10       1\n",
       "7811 2018-12-31 12:55:11       1\n",
       "7812 2018-12-31 12:55:17       1\n",
       "\n",
       "[7813 rows x 2 columns]"
      ]
     },
     "execution_count": 5,
     "metadata": {},
     "output_type": "execute_result"
    }
   ],
   "source": [
    "import pandas as pd\n",
    "\n",
    "\n",
    "# Convert the date to datetime64\n",
    "df['date'] = pd.to_datetime(df['date'], format='%Y-%m-%d')\n",
    "\n",
    "# Filter data between two dates\n",
    "df_2018 = df.loc[(df['date'] >= '2018-01-01')\n",
    "                     & (df['date'] < '2019-01-01')]\n",
    "# Display\n",
    "df_2018"
   ]
  },
  {
   "cell_type": "code",
   "execution_count": 8,
   "metadata": {},
   "outputs": [
    {
     "ename": "IndexingError",
     "evalue": "Unalignable boolean Series provided as indexer (index of the boolean Series and of the indexed object do not match).",
     "output_type": "error",
     "traceback": [
      "\u001b[1;31m---------------------------------------------------------------------------\u001b[0m",
      "\u001b[1;31mIndexingError\u001b[0m                             Traceback (most recent call last)",
      "Cell \u001b[1;32mIn [8], line 8\u001b[0m\n\u001b[0;32m      5\u001b[0m df1[\u001b[39m'\u001b[39m\u001b[39mdate\u001b[39m\u001b[39m'\u001b[39m] \u001b[39m=\u001b[39m pd\u001b[39m.\u001b[39mto_datetime(df1[\u001b[39m'\u001b[39m\u001b[39mdate\u001b[39m\u001b[39m'\u001b[39m], \u001b[39mformat\u001b[39m\u001b[39m=\u001b[39m\u001b[39m'\u001b[39m\u001b[39m%\u001b[39m\u001b[39mY-\u001b[39m\u001b[39m%\u001b[39m\u001b[39mm-\u001b[39m\u001b[39m%d\u001b[39;00m\u001b[39m'\u001b[39m)\n\u001b[0;32m      7\u001b[0m \u001b[39m# Filter data between two dates\u001b[39;00m\n\u001b[1;32m----> 8\u001b[0m df1_2018 \u001b[39m=\u001b[39m df\u001b[39m.\u001b[39;49mloc[(df1[\u001b[39m'\u001b[39;49m\u001b[39mdate\u001b[39;49m\u001b[39m'\u001b[39;49m] \u001b[39m>\u001b[39;49m\u001b[39m=\u001b[39;49m \u001b[39m'\u001b[39;49m\u001b[39m2018-01-01\u001b[39;49m\u001b[39m'\u001b[39;49m)\n\u001b[0;32m      9\u001b[0m                      \u001b[39m&\u001b[39;49m (df1[\u001b[39m'\u001b[39;49m\u001b[39mdate\u001b[39;49m\u001b[39m'\u001b[39;49m] \u001b[39m<\u001b[39;49m \u001b[39m'\u001b[39;49m\u001b[39m2019-01-01\u001b[39;49m\u001b[39m'\u001b[39;49m)]\n\u001b[0;32m     10\u001b[0m \u001b[39m# Display\u001b[39;00m\n\u001b[0;32m     11\u001b[0m df1_2018\n",
      "File \u001b[1;32mc:\\Users\\TEVA\\AppData\\Local\\Programs\\Python\\Python310\\lib\\site-packages\\pandas\\core\\indexing.py:967\u001b[0m, in \u001b[0;36m_LocationIndexer.__getitem__\u001b[1;34m(self, key)\u001b[0m\n\u001b[0;32m    964\u001b[0m axis \u001b[39m=\u001b[39m \u001b[39mself\u001b[39m\u001b[39m.\u001b[39maxis \u001b[39mor\u001b[39;00m \u001b[39m0\u001b[39m\n\u001b[0;32m    966\u001b[0m maybe_callable \u001b[39m=\u001b[39m com\u001b[39m.\u001b[39mapply_if_callable(key, \u001b[39mself\u001b[39m\u001b[39m.\u001b[39mobj)\n\u001b[1;32m--> 967\u001b[0m \u001b[39mreturn\u001b[39;00m \u001b[39mself\u001b[39;49m\u001b[39m.\u001b[39;49m_getitem_axis(maybe_callable, axis\u001b[39m=\u001b[39;49maxis)\n",
      "File \u001b[1;32mc:\\Users\\TEVA\\AppData\\Local\\Programs\\Python\\Python310\\lib\\site-packages\\pandas\\core\\indexing.py:1182\u001b[0m, in \u001b[0;36m_LocIndexer._getitem_axis\u001b[1;34m(self, key, axis)\u001b[0m\n\u001b[0;32m   1180\u001b[0m     \u001b[39mreturn\u001b[39;00m \u001b[39mself\u001b[39m\u001b[39m.\u001b[39m_get_slice_axis(key, axis\u001b[39m=\u001b[39maxis)\n\u001b[0;32m   1181\u001b[0m \u001b[39melif\u001b[39;00m com\u001b[39m.\u001b[39mis_bool_indexer(key):\n\u001b[1;32m-> 1182\u001b[0m     \u001b[39mreturn\u001b[39;00m \u001b[39mself\u001b[39;49m\u001b[39m.\u001b[39;49m_getbool_axis(key, axis\u001b[39m=\u001b[39;49maxis)\n\u001b[0;32m   1183\u001b[0m \u001b[39melif\u001b[39;00m is_list_like_indexer(key):\n\u001b[0;32m   1184\u001b[0m \n\u001b[0;32m   1185\u001b[0m     \u001b[39m# an iterable multi-selection\u001b[39;00m\n\u001b[0;32m   1186\u001b[0m     \u001b[39mif\u001b[39;00m \u001b[39mnot\u001b[39;00m (\u001b[39misinstance\u001b[39m(key, \u001b[39mtuple\u001b[39m) \u001b[39mand\u001b[39;00m \u001b[39misinstance\u001b[39m(labels, MultiIndex)):\n",
      "File \u001b[1;32mc:\\Users\\TEVA\\AppData\\Local\\Programs\\Python\\Python310\\lib\\site-packages\\pandas\\core\\indexing.py:984\u001b[0m, in \u001b[0;36m_LocationIndexer._getbool_axis\u001b[1;34m(self, key, axis)\u001b[0m\n\u001b[0;32m    981\u001b[0m \u001b[39mdef\u001b[39;00m \u001b[39m_getbool_axis\u001b[39m(\u001b[39mself\u001b[39m, key, axis: \u001b[39mint\u001b[39m):\n\u001b[0;32m    982\u001b[0m     \u001b[39m# caller is responsible for ensuring non-None axis\u001b[39;00m\n\u001b[0;32m    983\u001b[0m     labels \u001b[39m=\u001b[39m \u001b[39mself\u001b[39m\u001b[39m.\u001b[39mobj\u001b[39m.\u001b[39m_get_axis(axis)\n\u001b[1;32m--> 984\u001b[0m     key \u001b[39m=\u001b[39m check_bool_indexer(labels, key)\n\u001b[0;32m    985\u001b[0m     inds \u001b[39m=\u001b[39m key\u001b[39m.\u001b[39mnonzero()[\u001b[39m0\u001b[39m]\n\u001b[0;32m    986\u001b[0m     \u001b[39mreturn\u001b[39;00m \u001b[39mself\u001b[39m\u001b[39m.\u001b[39mobj\u001b[39m.\u001b[39m_take_with_is_copy(inds, axis\u001b[39m=\u001b[39maxis)\n",
      "File \u001b[1;32mc:\\Users\\TEVA\\AppData\\Local\\Programs\\Python\\Python310\\lib\\site-packages\\pandas\\core\\indexing.py:2383\u001b[0m, in \u001b[0;36mcheck_bool_indexer\u001b[1;34m(index, key)\u001b[0m\n\u001b[0;32m   2381\u001b[0m     mask \u001b[39m=\u001b[39m isna(result\u001b[39m.\u001b[39m_values)\n\u001b[0;32m   2382\u001b[0m     \u001b[39mif\u001b[39;00m mask\u001b[39m.\u001b[39many():\n\u001b[1;32m-> 2383\u001b[0m         \u001b[39mraise\u001b[39;00m IndexingError(\n\u001b[0;32m   2384\u001b[0m             \u001b[39m\"\u001b[39m\u001b[39mUnalignable boolean Series provided as \u001b[39m\u001b[39m\"\u001b[39m\n\u001b[0;32m   2385\u001b[0m             \u001b[39m\"\u001b[39m\u001b[39mindexer (index of the boolean Series and of \u001b[39m\u001b[39m\"\u001b[39m\n\u001b[0;32m   2386\u001b[0m             \u001b[39m\"\u001b[39m\u001b[39mthe indexed object do not match).\u001b[39m\u001b[39m\"\u001b[39m\n\u001b[0;32m   2387\u001b[0m         )\n\u001b[0;32m   2388\u001b[0m     \u001b[39mreturn\u001b[39;00m result\u001b[39m.\u001b[39mastype(\u001b[39mbool\u001b[39m)\u001b[39m.\u001b[39m_values\n\u001b[0;32m   2389\u001b[0m \u001b[39mif\u001b[39;00m is_object_dtype(key):\n\u001b[0;32m   2390\u001b[0m     \u001b[39m# key might be object-dtype bool, check_array_indexer needs bool array\u001b[39;00m\n",
      "\u001b[1;31mIndexingError\u001b[0m: Unalignable boolean Series provided as indexer (index of the boolean Series and of the indexed object do not match)."
     ]
    }
   ],
   "source": [
    "import pandas as pd\n",
    "\n",
    "\n",
    "# Convert the date to datetime64\n",
    "df1['date'] = pd.to_datetime(df1['date'], format='%Y-%m-%d')\n",
    "\n",
    "# Filter data between two dates\n",
    "df1_2018 = df.loc[(df1['date'] >= '2018-01-01')\n",
    "                     & (df1['date'] < '2019-01-01')]\n",
    "# Display\n",
    "df1_2018"
   ]
  },
  {
   "cell_type": "code",
   "execution_count": 9,
   "metadata": {},
   "outputs": [
    {
     "ename": "NameError",
     "evalue": "name 'df1_2018' is not defined",
     "output_type": "error",
     "traceback": [
      "\u001b[1;31m---------------------------------------------------------------------------\u001b[0m",
      "\u001b[1;31mNameError\u001b[0m                                 Traceback (most recent call last)",
      "Cell \u001b[1;32mIn [9], line 6\u001b[0m\n\u001b[0;32m      4\u001b[0m y \u001b[39m=\u001b[39m df_2018[\u001b[39m'\u001b[39m\u001b[39munidad\u001b[39m\u001b[39m'\u001b[39m]\n\u001b[0;32m      5\u001b[0m x \u001b[39m=\u001b[39m df_2018[\u001b[39m'\u001b[39m\u001b[39mdate\u001b[39m\u001b[39m'\u001b[39m]\n\u001b[1;32m----> 6\u001b[0m y1 \u001b[39m=\u001b[39m df1_2018[\u001b[39m'\u001b[39m\u001b[39munidad\u001b[39m\u001b[39m'\u001b[39m]\n\u001b[0;32m      7\u001b[0m x1 \u001b[39m=\u001b[39m df1_2018[\u001b[39m'\u001b[39m\u001b[39mdate\u001b[39m\u001b[39m'\u001b[39m]\n\u001b[0;32m     10\u001b[0m fig, ax \u001b[39m=\u001b[39m plt\u001b[39m.\u001b[39msubplots(figsize\u001b[39m=\u001b[39m(\u001b[39m20\u001b[39m,\u001b[39m10\u001b[39m))\n",
      "\u001b[1;31mNameError\u001b[0m: name 'df1_2018' is not defined"
     ]
    }
   ],
   "source": [
    "import matplotlib.pyplot as plt\n",
    "import matplotlib.dates as dates\n",
    "\n",
    "y = df_2018['unidad']\n",
    "x = df_2018['date']\n",
    "y1 = df1_2018['unidad']\n",
    "x1 = df1_2018['date']\n",
    "\n",
    "\n",
    "fig, ax = plt.subplots(figsize=(20,10))\n",
    "\n",
    "#ax.step(x, y, linewidth=1.0)\n",
    "#ax.stem(x, y)\n",
    "ax.plot(x, y, linewidth=1.0 ,label='NODO 0960')\n",
    "ax.plot(x1, y1, linewidth=1.0, label=\"NODO 0160\")\n",
    "ax.xaxis.set_tick_params(rotation=40)\n",
    "\n",
    "\n",
    "\"\"\"ax.xaxis.set_major_locator(dates.MonthLocator())\n",
    "# 16 is a slight approximation since months differ in number of days.\"\"\"\n",
    "ax.xaxis.set_minor_locator(dates.MonthLocator(bymonthday=16))\n",
    "\n",
    "ax.set_ylabel('Unidades',fontsize = 20)\n",
    "ax.set_title('Movimiento 2018',fontsize = 40)\n",
    "\n",
    "plt.grid()\n",
    "ax.legend(fontsize = 20)\n",
    "plt.grid()\n",
    "\n",
    "plt.savefig(\"static\\Mixto Año 2018.jpg\")\n"
   ]
  }
 ],
 "metadata": {
  "kernelspec": {
   "display_name": "Python 3.10.8 64-bit",
   "language": "python",
   "name": "python3"
  },
  "language_info": {
   "codemirror_mode": {
    "name": "ipython",
    "version": 3
   },
   "file_extension": ".py",
   "mimetype": "text/x-python",
   "name": "python",
   "nbconvert_exporter": "python",
   "pygments_lexer": "ipython3",
   "version": "3.10.8"
  },
  "orig_nbformat": 4,
  "vscode": {
   "interpreter": {
    "hash": "0c77bb9113d158797a453dc4931ff986231334c8bfdd3e60b3966feee6b96c99"
   }
  }
 },
 "nbformat": 4,
 "nbformat_minor": 2
}
