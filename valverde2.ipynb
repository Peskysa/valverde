{
 "cells": [
  {
   "cell_type": "code",
   "execution_count": 2,
   "metadata": {},
   "outputs": [],
   "source": [
    "import pandas as pd\n",
    "df = pd.concat(pd.read_excel('Peski.xlsx', sheet_name = None ), ignore_index = True )"
   ]
  },
  {
   "cell_type": "code",
   "execution_count": 14,
   "metadata": {},
   "outputs": [
    {
     "data": {
      "text/html": [
       "<div>\n",
       "<style scoped>\n",
       "    .dataframe tbody tr th:only-of-type {\n",
       "        vertical-align: middle;\n",
       "    }\n",
       "\n",
       "    .dataframe tbody tr th {\n",
       "        vertical-align: top;\n",
       "    }\n",
       "\n",
       "    .dataframe thead th {\n",
       "        text-align: right;\n",
       "    }\n",
       "</style>\n",
       "<table border=\"1\" class=\"dataframe\">\n",
       "  <thead>\n",
       "    <tr style=\"text-align: right;\">\n",
       "      <th></th>\n",
       "      <th>Manifest Date</th>\n",
       "      <th>From StationCode</th>\n",
       "      <th>To StationCode</th>\n",
       "      <th>Connote #</th>\n",
       "    </tr>\n",
       "  </thead>\n",
       "  <tbody>\n",
       "    <tr>\n",
       "      <th>0</th>\n",
       "      <td>2018-01-01 06:25:11</td>\n",
       "      <td>GB7103</td>\n",
       "      <td>ES0960</td>\n",
       "      <td>710310154455</td>\n",
       "    </tr>\n",
       "    <tr>\n",
       "      <th>1</th>\n",
       "      <td>2018-01-01 09:55:09</td>\n",
       "      <td>GB7103</td>\n",
       "      <td>ES0960</td>\n",
       "      <td>710310153744</td>\n",
       "    </tr>\n",
       "    <tr>\n",
       "      <th>2</th>\n",
       "      <td>2018-01-01 10:40:06</td>\n",
       "      <td>GB7103</td>\n",
       "      <td>ES0960</td>\n",
       "      <td>710310154820</td>\n",
       "    </tr>\n",
       "    <tr>\n",
       "      <th>3</th>\n",
       "      <td>2018-01-01 10:40:09</td>\n",
       "      <td>GB7103</td>\n",
       "      <td>ES0960</td>\n",
       "      <td>710310154831</td>\n",
       "    </tr>\n",
       "    <tr>\n",
       "      <th>4</th>\n",
       "      <td>2018-01-01 10:55:10</td>\n",
       "      <td>GB7103</td>\n",
       "      <td>ES0960</td>\n",
       "      <td>710310154864</td>\n",
       "    </tr>\n",
       "    <tr>\n",
       "      <th>...</th>\n",
       "      <td>...</td>\n",
       "      <td>...</td>\n",
       "      <td>...</td>\n",
       "      <td>...</td>\n",
       "    </tr>\n",
       "    <tr>\n",
       "      <th>404724</th>\n",
       "      <td>2022-10-31 12:25:25</td>\n",
       "      <td>GB7103</td>\n",
       "      <td>ES0960</td>\n",
       "      <td>710314529901</td>\n",
       "    </tr>\n",
       "    <tr>\n",
       "      <th>404725</th>\n",
       "      <td>2022-10-31 12:26:02</td>\n",
       "      <td>SKYRTN</td>\n",
       "      <td>ES0960</td>\n",
       "      <td>720134964975</td>\n",
       "    </tr>\n",
       "    <tr>\n",
       "      <th>404726</th>\n",
       "      <td>2022-10-31 12:40:39</td>\n",
       "      <td>SKYRTN</td>\n",
       "      <td>ES0960</td>\n",
       "      <td>720134965222</td>\n",
       "    </tr>\n",
       "    <tr>\n",
       "      <th>404727</th>\n",
       "      <td>2022-10-31 12:41:25</td>\n",
       "      <td>GB7103</td>\n",
       "      <td>ES0960</td>\n",
       "      <td>710314529912</td>\n",
       "    </tr>\n",
       "    <tr>\n",
       "      <th>404728</th>\n",
       "      <td>2022-10-31 12:55:26</td>\n",
       "      <td>GB7103</td>\n",
       "      <td>ES0960</td>\n",
       "      <td>710314529912</td>\n",
       "    </tr>\n",
       "  </tbody>\n",
       "</table>\n",
       "<p>404729 rows × 4 columns</p>\n",
       "</div>"
      ],
      "text/plain": [
       "             Manifest Date From StationCode To StationCode     Connote #\n",
       "0      2018-01-01 06:25:11           GB7103         ES0960  710310154455\n",
       "1      2018-01-01 09:55:09           GB7103         ES0960  710310153744\n",
       "2      2018-01-01 10:40:06           GB7103         ES0960  710310154820\n",
       "3      2018-01-01 10:40:09           GB7103         ES0960  710310154831\n",
       "4      2018-01-01 10:55:10           GB7103         ES0960  710310154864\n",
       "...                    ...              ...            ...           ...\n",
       "404724 2022-10-31 12:25:25           GB7103         ES0960  710314529901\n",
       "404725 2022-10-31 12:26:02           SKYRTN         ES0960  720134964975\n",
       "404726 2022-10-31 12:40:39           SKYRTN         ES0960  720134965222\n",
       "404727 2022-10-31 12:41:25           GB7103         ES0960  710314529912\n",
       "404728 2022-10-31 12:55:26           GB7103         ES0960  710314529912\n",
       "\n",
       "[404729 rows x 4 columns]"
      ]
     },
     "execution_count": 14,
     "metadata": {},
     "output_type": "execute_result"
    }
   ],
   "source": [
    "df"
   ]
  },
  {
   "cell_type": "code",
   "execution_count": 15,
   "metadata": {},
   "outputs": [
    {
     "name": "stdout",
     "output_type": "stream",
     "text": [
      "<class 'pandas.core.frame.DataFrame'>\n",
      "RangeIndex: 404729 entries, 0 to 404728\n",
      "Data columns (total 4 columns):\n",
      " #   Column            Non-Null Count   Dtype         \n",
      "---  ------            --------------   -----         \n",
      " 0   Manifest Date     404729 non-null  datetime64[ns]\n",
      " 1   From StationCode  404729 non-null  object        \n",
      " 2   To StationCode    404729 non-null  object        \n",
      " 3   Connote #         404729 non-null  object        \n",
      "dtypes: datetime64[ns](1), object(3)\n",
      "memory usage: 12.4+ MB\n"
     ]
    }
   ],
   "source": [
    "df.info()"
   ]
  },
  {
   "cell_type": "code",
   "execution_count": 16,
   "metadata": {},
   "outputs": [
    {
     "data": {
      "text/plain": [
       "2020-12-07 23:00:00    1591\n",
       "2022-06-07 20:00:00    1543\n",
       "2022-06-06 20:00:00    1381\n",
       "2020-12-10 23:00:00    1113\n",
       "2020-11-30 23:00:00    1075\n",
       "                       ... \n",
       "2020-06-05 08:40:34       1\n",
       "2020-06-05 08:40:40       1\n",
       "2020-06-05 08:40:46       1\n",
       "2020-06-05 08:55:35       1\n",
       "2022-10-31 12:55:26       1\n",
       "Name: Manifest Date, Length: 73843, dtype: int64"
      ]
     },
     "execution_count": 16,
     "metadata": {},
     "output_type": "execute_result"
    }
   ],
   "source": [
    "df['Manifest Date'].value_counts()"
   ]
  },
  {
   "cell_type": "code",
   "execution_count": 51,
   "metadata": {},
   "outputs": [
    {
     "data": {
      "text/plain": [
       "73843"
      ]
     },
     "execution_count": 51,
     "metadata": {},
     "output_type": "execute_result"
    }
   ],
   "source": [
    "len(df['Manifest Date'].value_counts())"
   ]
  },
  {
   "cell_type": "code",
   "execution_count": 45,
   "metadata": {},
   "outputs": [],
   "source": [
    "df['new_date'] = [d.date() for d in df['Manifest Date']]\n",
    "df['new_time'] = [d.time() for d in df['Manifest Date']]"
   ]
  },
  {
   "cell_type": "code",
   "execution_count": 49,
   "metadata": {},
   "outputs": [
    {
     "data": {
      "text/plain": [
       "1765"
      ]
     },
     "execution_count": 49,
     "metadata": {},
     "output_type": "execute_result"
    }
   ],
   "source": [
    "len(df['new_date'].value_counts())"
   ]
  },
  {
   "cell_type": "code",
   "execution_count": 53,
   "metadata": {},
   "outputs": [
    {
     "data": {
      "text/plain": [
       "2020-12-07    1903\n",
       "2022-06-07    1873\n",
       "2022-06-06    1531\n",
       "2020-12-09    1376\n",
       "2020-11-30    1312\n",
       "              ... \n",
       "2018-10-27       2\n",
       "2018-06-23       2\n",
       "2019-09-07       1\n",
       "2019-01-05       1\n",
       "2019-08-03       1\n",
       "Name: new_date, Length: 1765, dtype: int64"
      ]
     },
     "execution_count": 53,
     "metadata": {},
     "output_type": "execute_result"
    }
   ],
   "source": [
    "df['new_date'].value_counts()"
   ]
  },
  {
   "cell_type": "code",
   "execution_count": 54,
   "metadata": {},
   "outputs": [],
   "source": [
    "new_date = df['new_date'].value_counts()\n",
    "new_date.to_csv('new_date')"
   ]
  },
  {
   "cell_type": "code",
   "execution_count": null,
   "metadata": {},
   "outputs": [],
   "source": [
    "new_date = df['new_date'].value_counts()\n",
    "new_date.to_csv('new_date')"
   ]
  },
  {
   "cell_type": "code",
   "execution_count": 29,
   "metadata": {},
   "outputs": [
    {
     "data": {
      "text/plain": [
       "73843"
      ]
     },
     "execution_count": 29,
     "metadata": {},
     "output_type": "execute_result"
    }
   ],
   "source": [
    "len(df['Manifest Date'].value_counts())"
   ]
  },
  {
   "cell_type": "code",
   "execution_count": 31,
   "metadata": {},
   "outputs": [
    {
     "data": {
      "text/plain": [
       "1538.3958333333333"
      ]
     },
     "execution_count": 31,
     "metadata": {},
     "output_type": "execute_result"
    }
   ],
   "source": [
    "(73843/4)/12"
   ]
  },
  {
   "cell_type": "code",
   "execution_count": 33,
   "metadata": {},
   "outputs": [],
   "source": [
    "manifest_date = df['Manifest Date'].value_counts()\n",
    "manifest_date.to_csv('Manifest Date')\n",
    "\n",
    "ES0160    275742\n",
    "ES0960    128987"
   ]
  },
  {
   "cell_type": "code",
   "execution_count": 8,
   "metadata": {},
   "outputs": [
    {
     "data": {
      "text/plain": [
       "275742"
      ]
     },
     "execution_count": 8,
     "metadata": {},
     "output_type": "execute_result"
    }
   ],
   "source": [
    "es0160 = df[\"To StationCode\"] ==  'ES0160'\n",
    "\n",
    "total_es0160 = df[es0160]\n",
    "len(total_es0160)\n",
    "\n"
   ]
  },
  {
   "cell_type": "code",
   "execution_count": 10,
   "metadata": {},
   "outputs": [
    {
     "data": {
      "text/plain": [
       "128987"
      ]
     },
     "execution_count": 10,
     "metadata": {},
     "output_type": "execute_result"
    }
   ],
   "source": [
    "es0960 = df[\"To StationCode\"] ==  'ES0960'\n",
    "\n",
    "total_es0960 = df[es0960]\n",
    "len(total_es0960)"
   ]
  },
  {
   "cell_type": "code",
   "execution_count": 12,
   "metadata": {},
   "outputs": [],
   "source": [
    "total_es0160.to_csv('total_es0160.csv')"
   ]
  },
  {
   "cell_type": "code",
   "execution_count": 13,
   "metadata": {},
   "outputs": [],
   "source": [
    "total_es0960.to_csv('total_es0960.csv')"
   ]
  },
  {
   "cell_type": "code",
   "execution_count": 19,
   "metadata": {},
   "outputs": [
    {
     "data": {
      "text/plain": [
       "IT0073     164358\n",
       "GB0064      87946\n",
       "SKYRTN      33064\n",
       "GB7103      24894\n",
       "PL0032      19331\n",
       "NL0065      18942\n",
       "ES0060      16737\n",
       "GB0005       8400\n",
       "DE0104       8100\n",
       "ES0960       7967\n",
       "GB0565       4419\n",
       "GB0567       3252\n",
       "CY0044       1972\n",
       "DE0066       1658\n",
       "BG0129       1171\n",
       "ES0160        760\n",
       "PT0061        652\n",
       "FR0114        227\n",
       "GB0018        214\n",
       "GULF01        168\n",
       "RO0134        117\n",
       "TR0570        100\n",
       "IT0072         67\n",
       "GR0107         44\n",
       "EE0300         41\n",
       "NL0700         38\n",
       "LV0172         19\n",
       "GB0543         14\n",
       "BE0067         10\n",
       "dHU0103         7\n",
       "AT0302          6\n",
       "MT0062          6\n",
       "IE0225          6\n",
       "PT0961          5\n",
       "CZ0348          4\n",
       "NP0106          3\n",
       "DK0040          3\n",
       "IR0205          3\n",
       "BE100           1\n",
       "GB0021          1\n",
       "MZ0144          1\n",
       "FI0038          1\n",
       "Name: From StationCode, dtype: int64"
      ]
     },
     "execution_count": 19,
     "metadata": {},
     "output_type": "execute_result"
    }
   ],
   "source": [
    "df['From StationCode'].value_counts()"
   ]
  },
  {
   "cell_type": "code",
   "execution_count": 25,
   "metadata": {},
   "outputs": [
    {
     "data": {
      "text/plain": [
       "42"
      ]
     },
     "execution_count": 25,
     "metadata": {},
     "output_type": "execute_result"
    }
   ],
   "source": [
    "len(df['From StationCode'].value_counts())"
   ]
  },
  {
   "cell_type": "code",
   "execution_count": 26,
   "metadata": {},
   "outputs": [
    {
     "data": {
      "text/plain": [
       "2"
      ]
     },
     "execution_count": 26,
     "metadata": {},
     "output_type": "execute_result"
    }
   ],
   "source": [
    "len(df['To StationCode'].value_counts())"
   ]
  },
  {
   "cell_type": "code",
   "execution_count": 5,
   "metadata": {},
   "outputs": [
    {
     "data": {
      "text/plain": [
       "ES0160    275742\n",
       "ES0960    128987\n",
       "Name: To StationCode, dtype: int64"
      ]
     },
     "execution_count": 5,
     "metadata": {},
     "output_type": "execute_result"
    }
   ],
   "source": [
    "df['To StationCode'].value_counts()"
   ]
  },
  {
   "cell_type": "code",
   "execution_count": 28,
   "metadata": {},
   "outputs": [],
   "source": [
    "from_station = df['From StationCode'].value_counts()\n",
    "from_station.to_excel('from_station.xlsx')"
   ]
  }
 ],
 "metadata": {
  "kernelspec": {
   "display_name": "Python 3.10.8 64-bit",
   "language": "python",
   "name": "python3"
  },
  "language_info": {
   "codemirror_mode": {
    "name": "ipython",
    "version": 3
   },
   "file_extension": ".py",
   "mimetype": "text/x-python",
   "name": "python",
   "nbconvert_exporter": "python",
   "pygments_lexer": "ipython3",
   "version": "3.10.8"
  },
  "orig_nbformat": 4,
  "vscode": {
   "interpreter": {
    "hash": "0c77bb9113d158797a453dc4931ff986231334c8bfdd3e60b3966feee6b96c99"
   }
  }
 },
 "nbformat": 4,
 "nbformat_minor": 2
}
